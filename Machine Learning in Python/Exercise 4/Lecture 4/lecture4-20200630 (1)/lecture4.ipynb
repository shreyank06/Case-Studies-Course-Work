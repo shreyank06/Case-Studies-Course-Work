{
 "cells": [
  {
   "cell_type": "code",
   "execution_count": 1,
   "metadata": {
    "slideshow": {
     "slide_type": "-"
    }
   },
   "outputs": [
    {
     "data": {
      "text/html": [
       "\n",
       "<style>\n",
       ".output_png {\n",
       "    display: table-cell;\n",
       "    text-align: center;\n",
       "    margin:auto;\n",
       "}\n",
       ".prompt \n",
       "    display:none;\n",
       "}\n",
       "</style>\n"
      ],
      "text/plain": [
       "<IPython.core.display.HTML object>"
      ]
     },
     "execution_count": 1,
     "metadata": {},
     "output_type": "execute_result"
    }
   ],
   "source": [
    "from IPython.core.display import HTML\n",
    "HTML(\"\"\"\n",
    "<style>\n",
    ".output_png {\n",
    "    display: table-cell;\n",
    "    text-align: center;\n",
    "    margin:auto;\n",
    "}\n",
    ".prompt \n",
    "    display:none;\n",
    "}\n",
    "</style>\n",
    "\"\"\")"
   ]
  },
  {
   "cell_type": "markdown",
   "metadata": {
    "slideshow": {
     "slide_type": "slide"
    }
   },
   "source": [
    "# $$\\textbf{Python Programming for Machine Learning} $$ \n",
    "\n",
    "#### $$\\text{SoSe 2020}$$\n",
    "\n",
    "## $$\\text{Lecture 4: Numerical instability, Linear Algebra} $$\n",
    "\n",
    "#### $$\\text{Sergej Dogadov} \\quad \\text{Philine Thalia Görzig} \\quad \\text{Panagiotis Tomer Karagiannis}$$\n",
    "\n",
    "<center>\n",
    "<img src='images/pyt.png' width=250>"
   ]
  },
  {
   "cell_type": "markdown",
   "metadata": {
    "slideshow": {
     "slide_type": "slide"
    }
   },
   "source": [
    "## $$\\textbf{Rounding effect}$$\n",
    "<hr>\n",
    "<br>"
   ]
  },
  {
   "cell_type": "code",
   "execution_count": 2,
   "metadata": {
    "slideshow": {
     "slide_type": "fragment"
    }
   },
   "outputs": [],
   "source": [
    "# Import the required packages\n",
    "import numpy as np\n",
    "\n",
    "import matplotlib.pyplot as plt\n",
    "%matplotlib inline"
   ]
  },
  {
   "cell_type": "markdown",
   "metadata": {
    "slideshow": {
     "slide_type": "slide"
    }
   },
   "source": [
    "* $\\text{Let's start with a weird experiment:}$"
   ]
  },
  {
   "cell_type": "code",
   "execution_count": 3,
   "metadata": {
    "slideshow": {
     "slide_type": "fragment"
    }
   },
   "outputs": [
    {
     "data": {
      "text/plain": [
       "array([   1.,   10.,  100., 1000.], dtype=float32)"
      ]
     },
     "execution_count": 3,
     "metadata": {},
     "output_type": "execute_result"
    }
   ],
   "source": [
    "a = (10**np.arange(4)).astype('float32')\n",
    "a"
   ]
  },
  {
   "cell_type": "code",
   "execution_count": 4,
   "metadata": {
    "slideshow": {
     "slide_type": "fragment"
    }
   },
   "outputs": [
    {
     "data": {
      "text/plain": [
       "array([   0.,    0.,  128., 1024.], dtype=float32)"
      ]
     },
     "execution_count": 4,
     "metadata": {},
     "output_type": "execute_result"
    }
   ],
   "source": [
    "# Add and subtract the same (huge) number\n",
    "huge_number = 1e9 \n",
    "\n",
    "(a + huge_number) - huge_number # as you can see the result is not equal a"
   ]
  },
  {
   "cell_type": "markdown",
   "metadata": {
    "slideshow": {
     "slide_type": "slide"
    }
   },
   "source": [
    "* $ \\text{Now, let's repeat the experiment with higher precision (float64):} $"
   ]
  },
  {
   "cell_type": "code",
   "execution_count": 5,
   "metadata": {
    "slideshow": {
     "slide_type": "fragment"
    }
   },
   "outputs": [
    {
     "data": {
      "text/plain": [
       "array([   1.,   10.,  100., 1000.])"
      ]
     },
     "execution_count": 5,
     "metadata": {},
     "output_type": "execute_result"
    }
   ],
   "source": [
    "a = (10**np.arange(4)).astype('float64')\n",
    "a"
   ]
  },
  {
   "cell_type": "code",
   "execution_count": 6,
   "metadata": {
    "slideshow": {
     "slide_type": "fragment"
    }
   },
   "outputs": [
    {
     "data": {
      "text/plain": [
       "array([   1.,   10.,  100., 1000.])"
      ]
     },
     "execution_count": 6,
     "metadata": {},
     "output_type": "execute_result"
    }
   ],
   "source": [
    "huge_number = 1e12\n",
    "\n",
    "# it seems to work now\n",
    "(a + huge_number) - huge_number # ok for now it works..."
   ]
  },
  {
   "cell_type": "markdown",
   "metadata": {
    "slideshow": {
     "slide_type": "fragment"
    }
   },
   "source": [
    "* $\\text{We can also reach the limits of double precision floats (float64):}$"
   ]
  },
  {
   "cell_type": "code",
   "execution_count": 7,
   "metadata": {
    "slideshow": {
     "slide_type": "fragment"
    }
   },
   "outputs": [
    {
     "name": "stdout",
     "output_type": "stream",
     "text": [
      "[   0.    0.  128. 1024.]\n"
     ]
    }
   ],
   "source": [
    "huge_number = 1e18 \n",
    "\n",
    "print((a + huge_number) - huge_number) # same artefacts appear"
   ]
  },
  {
   "cell_type": "markdown",
   "metadata": {
    "slideshow": {
     "slide_type": "slide"
    }
   },
   "source": [
    "## $$\\textbf{Understanding of the rounding effect}$$\n",
    "<hr>\n",
    "<br>"
   ]
  },
  {
   "cell_type": "code",
   "execution_count": 8,
   "metadata": {
    "slideshow": {
     "slide_type": "fragment"
    }
   },
   "outputs": [],
   "source": [
    "# We'll plot all numbers before and after application of the addition and substraction of the huge numbers:\n",
    "a = np.arange(500).astype('float32')\n",
    "\n",
    "huge_numbers = [1e7, 1e8, 1e9, 1e10]"
   ]
  },
  {
   "cell_type": "code",
   "execution_count": 9,
   "metadata": {
    "slideshow": {
     "slide_type": "fragment"
    }
   },
   "outputs": [
    {
     "data": {
      "image/png": "[encoded data removed]",
      "text/plain": [
       "<Figure size 1584x432 with 4 Axes>"
      ]
     },
     "metadata": {
      "needs_background": "light"
     },
     "output_type": "display_data"
    }
   ],
   "source": [
    "f, axis = plt.subplots(1, len(huge_numbers), sharex=True, sharey=True, figsize = (22,6))\n",
    "\n",
    "for i,num in enumerate(huge_numbers):\n",
    "    ax = axis[i]\n",
    "    b = (a + num) - num\n",
    "    ax.plot(a, b, label='rounding')\n",
    "    ax.plot(a, a, label=f'error: {np.abs(a-b).sum():.2f}')\n",
    "    ax.legend()\n",
    "    \n",
    "ttl = axis[1].set_title('Rounding effect', fontsize=25, pad=20)\n",
    "axis[0].set_ylabel('after', rotation=0, labelpad=35, fontsize=20)\n",
    "xlab =  axis[1].set_xlabel('before', fontsize=20, labelpad=10) # pad to get vert dist\n",
    "ttl.set_position([1.1,1.0])\n",
    "xlab.set_position([1, 0]) # shifting to right (centering)"
   ]
  },
  {
   "cell_type": "markdown",
   "metadata": {
    "slideshow": {
     "slide_type": "slide"
    }
   },
   "source": [
    "## $$\\textbf{Insights about the rounding effect}$$\n",
    "<hr>\n",
    "<br>"
   ]
  },
  {
   "cell_type": "markdown",
   "metadata": {
    "slideshow": {
     "slide_type": "fragment"
    }
   },
   "source": [
    "* The `float32` and `float64` number representations have a certain budget of bits to represent real numbers.\n",
    "\n",
    "Therefore, they allocate precision where it is important (e.g. for small numbers).\n",
    "<br>\n",
    "\n"
   ]
  },
  {
   "cell_type": "markdown",
   "metadata": {
    "slideshow": {
     "slide_type": "fragment"
    }
   },
   "source": [
    "* The smaller the precision, the less memory is used and therefore the more efficient (computationally), \n",
    "\n",
    "but also the more careful we should be about potential loss of precision.\n",
    "<br>\n",
    "\n"
   ]
  },
  {
   "cell_type": "markdown",
   "metadata": {
    "slideshow": {
     "slide_type": "fragment"
    }
   },
   "source": [
    "* Unlike typical observed data, error is not random-looking, but very structured."
   ]
  },
  {
   "cell_type": "markdown",
   "metadata": {
    "slideshow": {
     "slide_type": "slide"
    }
   },
   "source": [
    "## $$\\textbf{Rounding error structure}$$\n",
    "<hr>\n",
    "<br>"
   ]
  },
  {
   "cell_type": "code",
   "execution_count": 10,
   "metadata": {
    "slideshow": {
     "slide_type": "fragment"
    }
   },
   "outputs": [
    {
     "data": {
      "image/png": "[encoded data removed]",
      "text/plain": [
       "<Figure size 1008x288 with 1 Axes>"
      ]
     },
     "metadata": {
      "needs_background": "light"
     },
     "output_type": "display_data"
    }
   ],
   "source": [
    "num = 1e9\n",
    "\n",
    "a = np.arange(500).astype('float32')\n",
    "\n",
    "b = (a + num) - num\n",
    "error = np.abs(a - b)\n",
    "\n",
    "plt.figure(figsize=(14,4))\n",
    "plt.plot(a, error)\n",
    "plt.title('Rounding error structure', fontsize=25, pad=20)\n",
    "plt.xlabel('input number', fontsize=20)\n",
    "_=plt.ylabel('output error', fontsize=20)"
   ]
  },
  {
   "cell_type": "markdown",
   "metadata": {
    "slideshow": {
     "slide_type": "slide"
    }
   },
   "source": [
    "## $$\\textbf{Overflow}$$\n",
    "<hr>\n",
    "<br>\n",
    "\n",
    "* $\\text{Overflow is a frequently encountered problem when implementing machine learning algorithms.}$"
   ]
  },
  {
   "cell_type": "code",
   "execution_count": 11,
   "metadata": {
    "slideshow": {
     "slide_type": "fragment"
    }
   },
   "outputs": [
    {
     "data": {
      "text/plain": [
       "array([  10.,  100., 1000.])"
      ]
     },
     "execution_count": 11,
     "metadata": {},
     "output_type": "execute_result"
    }
   ],
   "source": [
    "a = 10**np.arange(1,4).astype('float64')\n",
    "a"
   ]
  },
  {
   "cell_type": "code",
   "execution_count": 12,
   "metadata": {
    "slideshow": {
     "slide_type": "fragment"
    }
   },
   "outputs": [
    {
     "name": "stderr",
     "output_type": "stream",
     "text": [
      "C:\\Users\\Mayank\\anaconda3\\lib\\site-packages\\ipykernel_launcher.py:2: RuntimeWarning: overflow encountered in exp\n",
      "  \n"
     ]
    },
    {
     "data": {
      "text/plain": [
       "array([2.20264658e+04, 2.68811714e+43,            inf])"
      ]
     },
     "execution_count": 12,
     "metadata": {},
     "output_type": "execute_result"
    }
   ],
   "source": [
    "# exponential function overflow\n",
    "np.exp(a)"
   ]
  },
  {
   "cell_type": "markdown",
   "metadata": {
    "slideshow": {
     "slide_type": "slide"
    }
   },
   "source": [
    "## $$\\textbf{Example: sigmoid function}$$\n",
    "<hr>\n",
    "<br>\n",
    "\n",
    "$${\\sigma(x) = \\frac{e^{x}}{1+e^{x}}}$$"
   ]
  },
  {
   "cell_type": "code",
   "execution_count": 13,
   "metadata": {
    "scrolled": true,
    "slideshow": {
     "slide_type": "fragment"
    }
   },
   "outputs": [
    {
     "data": {
      "image/png": "[encoded data removed]",
      "text/plain": [
       "<Figure size 864x288 with 1 Axes>"
      ]
     },
     "metadata": {
      "needs_background": "light"
     },
     "output_type": "display_data"
    }
   ],
   "source": [
    "sigmoid = lambda x: np.exp(x) / (1 + np.exp(x))\n",
    "\n",
    "x = np.linspace(-10,10,30)\n",
    "plt.figure(figsize=(12,4))\n",
    "plt.title('Sigmoid function', fontsize=20)\n",
    "plt.plot(x,sigmoid(x),'o-')\n",
    "plt.grid(1)"
   ]
  },
  {
   "cell_type": "markdown",
   "metadata": {
    "slideshow": {
     "slide_type": "slide"
    }
   },
   "source": [
    "## $$\\textbf{Compute sigmoid function for some values}$$\n",
    "<hr>\n",
    "<br> "
   ]
  },
  {
   "cell_type": "code",
   "execution_count": 14,
   "metadata": {
    "slideshow": {
     "slide_type": "fragment"
    }
   },
   "outputs": [
    {
     "data": {
      "text/plain": [
       "array([-1.e+04, -1.e+03, -1.e+02, -1.e+01, -1.e+00,  1.e+00,  1.e+01,\n",
       "        1.e+02,  1.e+03,  1.e+04])"
      ]
     },
     "execution_count": 14,
     "metadata": {},
     "output_type": "execute_result"
    }
   ],
   "source": [
    "x = 10. ** np.arange(0,5)\n",
    "x = np.sort(np.concatenate([-x,x])) # huge negative and positive numbers\n",
    "x"
   ]
  },
  {
   "cell_type": "code",
   "execution_count": 15,
   "metadata": {
    "scrolled": true,
    "slideshow": {
     "slide_type": "fragment"
    }
   },
   "outputs": [
    {
     "name": "stderr",
     "output_type": "stream",
     "text": [
      "C:\\Users\\Mayank\\anaconda3\\lib\\site-packages\\ipykernel_launcher.py:1: RuntimeWarning: overflow encountered in exp\n",
      "  \"\"\"Entry point for launching an IPython kernel.\n",
      "C:\\Users\\Mayank\\anaconda3\\lib\\site-packages\\ipykernel_launcher.py:1: RuntimeWarning: invalid value encountered in true_divide\n",
      "  \"\"\"Entry point for launching an IPython kernel.\n"
     ]
    },
    {
     "data": {
      "text/plain": [
       "array([0.00000000e+00, 0.00000000e+00, 3.72007598e-44, 4.53978687e-05,\n",
       "       2.68941421e-01, 7.31058579e-01, 9.99954602e-01, 1.00000000e+00,\n",
       "                  nan,            nan])"
      ]
     },
     "execution_count": 15,
     "metadata": {},
     "output_type": "execute_result"
    }
   ],
   "source": [
    "sigmoid(x)"
   ]
  },
  {
   "cell_type": "markdown",
   "metadata": {
    "slideshow": {
     "slide_type": "fragment"
    }
   },
   "source": [
    "* $\\text{Where does the `nan` come from?}$"
   ]
  },
  {
   "cell_type": "code",
   "execution_count": 16,
   "metadata": {
    "slideshow": {
     "slide_type": "fragment"
    }
   },
   "outputs": [
    {
     "data": {
      "text/plain": [
       "(nan, nan, nan)"
      ]
     },
     "execution_count": 16,
     "metadata": {},
     "output_type": "execute_result"
    }
   ],
   "source": [
    "# Undefined mathematical operations\n",
    "\n",
    "np.inf/np.inf, 0.*np.inf,  np.inf - np.inf"
   ]
  },
  {
   "cell_type": "code",
   "execution_count": 17,
   "metadata": {
    "slideshow": {
     "slide_type": "fragment"
    }
   },
   "outputs": [
    {
     "data": {
      "text/plain": [
       "(1.0, 0.0, 1.0)"
      ]
     },
     "execution_count": 17,
     "metadata": {},
     "output_type": "execute_result"
    }
   ],
   "source": [
    "# Undefined mathematical operations but works in python\n",
    "\n",
    "1.** np.inf, 0.**np.inf, 0.**0"
   ]
  },
  {
   "cell_type": "markdown",
   "metadata": {
    "slideshow": {
     "slide_type": "slide"
    }
   },
   "source": [
    "## $$\\textbf{Stable sigmoid function}$$\n",
    "<hr>\n",
    "<br> \n",
    "\n",
    "* $\\text{Let's rewrite the sigmoid function in a different way}$\n",
    "\n",
    "$$\n",
    "\\sigma(x) = \\frac{e^{x}}{1+e^{x}} = \\frac{e^{-x} e^{x}}{e^{-x} (1+e^{x})} = \\frac{1}{1+e^{-x}}\n",
    "$$"
   ]
  },
  {
   "cell_type": "code",
   "execution_count": 18,
   "metadata": {
    "slideshow": {
     "slide_type": "fragment"
    }
   },
   "outputs": [
    {
     "data": {
      "text/plain": [
       "array([-1.e+04, -1.e+03, -1.e+02, -1.e+01, -1.e+00,  1.e+00,  1.e+01,\n",
       "        1.e+02,  1.e+03,  1.e+04])"
      ]
     },
     "execution_count": 18,
     "metadata": {},
     "output_type": "execute_result"
    }
   ],
   "source": [
    "sigmoid = lambda x: 1./(1 + np.exp(-x))\n",
    "x"
   ]
  },
  {
   "cell_type": "code",
   "execution_count": 19,
   "metadata": {
    "slideshow": {
     "slide_type": "fragment"
    }
   },
   "outputs": [
    {
     "name": "stderr",
     "output_type": "stream",
     "text": [
      "C:\\Users\\Mayank\\anaconda3\\lib\\site-packages\\ipykernel_launcher.py:1: RuntimeWarning: overflow encountered in exp\n",
      "  \"\"\"Entry point for launching an IPython kernel.\n"
     ]
    },
    {
     "data": {
      "text/plain": [
       "array([0.00000000e+00, 0.00000000e+00, 3.72007598e-44, 4.53978687e-05,\n",
       "       2.68941421e-01, 7.31058579e-01, 9.99954602e-01, 1.00000000e+00,\n",
       "       1.00000000e+00, 1.00000000e+00])"
      ]
     },
     "execution_count": 19,
     "metadata": {},
     "output_type": "execute_result"
    }
   ],
   "source": [
    "sigmoid(x)"
   ]
  },
  {
   "cell_type": "markdown",
   "metadata": {
    "slideshow": {
     "slide_type": "-"
    }
   },
   "source": [
    "* $\\text{Here, we still get an overflow.}$ \n",
    "\n",
    "$\\text{But this time, we are lucky since 1/inf = 0.0, which could be the desired result for large negative inputs.}$"
   ]
  },
  {
   "cell_type": "markdown",
   "metadata": {
    "slideshow": {
     "slide_type": "slide"
    }
   },
   "source": [
    "## $$\\textbf{Robust sigmoid function}$$\n",
    "<hr>\n",
    "<br> \n",
    "\n",
    "* $\\text{The sigmoid function can be written in yet another way using} \\> \\tanh(x)\\> \\text{function:}$\n",
    "\n",
    "$$\n",
    "\\tanh{(x)} = \\frac{e^{2x} - 1}{e^{2x} + 1}\n",
    "$$\n",
    "<hr>"
   ]
  },
  {
   "cell_type": "markdown",
   "metadata": {
    "slideshow": {
     "slide_type": "fragment"
    }
   },
   "source": [
    "$$\n",
    "\\sigma(x) = \\frac{e^{x}}{1+e^{x}} = \\frac{1}{2}\\Big(\\frac{2e^{x}}{1+e^{x}}\\Big) = \\frac{1}{2}\\Big(\\frac{e^{x} - 1 + 1 + e^{x}}{1+e^{x}}\\Big) = \\frac{1}{2}\\Big( \\frac{e^{x} - 1}{e^{x}+1} + 1\\Big) = \\frac{1}{2}\\Big( \\tanh\\Big(\\frac{x}{2}\\Big) + 1\\Big)\n",
    "$$"
   ]
  },
  {
   "cell_type": "code",
   "execution_count": 20,
   "metadata": {
    "slideshow": {
     "slide_type": "fragment"
    }
   },
   "outputs": [
    {
     "data": {
      "text/plain": [
       "array([0.00000000e+00, 0.00000000e+00, 0.00000000e+00, 4.53978687e-05,\n",
       "       2.68941421e-01, 7.31058579e-01, 9.99954602e-01, 1.00000000e+00,\n",
       "       1.00000000e+00, 1.00000000e+00])"
      ]
     },
     "execution_count": 20,
     "metadata": {},
     "output_type": "execute_result"
    }
   ],
   "source": [
    "sigmoid = lambda x: 0.5 * ( np.tanh(0.5 * x) + 1 )\n",
    "\n",
    "# And there is no runtime warning this time.\n",
    "sigmoid(x)"
   ]
  },
  {
   "cell_type": "markdown",
   "metadata": {
    "slideshow": {
     "slide_type": "slide"
    }
   },
   "source": [
    "## $$\\textbf{Clipped sigmoid function}$$\n",
    "<hr>\n",
    "<br> \n",
    "\n",
    "* $\\text{Suppose we cannot find a stable function definition.}$ \n",
    "\n",
    "$\\text{The sigmoid function can alternatively be approximated to avoid the overflow:}$"
   ]
  },
  {
   "cell_type": "code",
   "execution_count": 21,
   "metadata": {
    "slideshow": {
     "slide_type": "fragment"
    }
   },
   "outputs": [
    {
     "data": {
      "image/png": "[encoded data removed]",
      "text/plain": [
       "<Figure size 720x360 with 1 Axes>"
      ]
     },
     "metadata": {
      "needs_background": "light"
     },
     "output_type": "display_data"
    }
   ],
   "source": [
    "x = np.linspace(-10,10,50)\n",
    "\n",
    "plt.figure(figsize=(10,5))\n",
    "plt.plot(x, sigmoid(x), 'r', ls='--', label='sigmoid')\n",
    "\n",
    "min_val = -4.5\n",
    "max_val = 4\n",
    "plt.plot(x, sigmoid(np.clip(x, min_val, max_val)), 'b', label='clipped')\n",
    "plt.legend ()\n",
    "plt.grid()"
   ]
  },
  {
   "cell_type": "markdown",
   "metadata": {
    "slideshow": {
     "slide_type": "-"
    }
   },
   "source": [
    "* $\\text{The numpy clip function prevents the input from going outside a certain interval. }$\n",
    "\n",
    "\n",
    "* $\\text{This effectively avoids overflow in the exponential, but also causes a small approximation error.}$"
   ]
  },
  {
   "cell_type": "markdown",
   "metadata": {
    "slideshow": {
     "slide_type": "slide"
    }
   },
   "source": [
    "* $\\textbf{Another source of overflow: normalizing factor of a  distribution}$\n",
    "<br>\n",
    "\n",
    "\n",
    "$ \\text{Many probability desity functions can be written as following:}$\n",
    "<hr>\n",
    "<br>\n",
    "$$\\boxed{\\Large{\n",
    "p(x) = \\frac1Z \\exp\\Big(f(x)\\Big)\n",
    "}}$$\n",
    "<br>"
   ]
  },
  {
   "cell_type": "markdown",
   "metadata": {
    "slideshow": {
     "slide_type": "fragment"
    }
   },
   "source": [
    "* $\\text{Example of such pdfs: Gaussian, Multinomial, Dirichlet, Exponential, Poisson...}$"
   ]
  },
  {
   "cell_type": "markdown",
   "metadata": {
    "slideshow": {
     "slide_type": "fragment"
    }
   },
   "source": [
    "* $\\text{Machine learning algorithms often use these distributions, because their parameters can be learned easily.}$ \n",
    "\n",
    "$\\text{For example, the mean parameter of a Gaussian distribution can be estimated by computing the empirical mean of the data,}$ \n",
    "\n",
    "\n",
    "$\\text{and the scale parameter can be learned by computing the empirical standard deviation.}$\n",
    "\n",
    "* $\\text{On the other hand, these probability functions have a risk of overflow due to the exponential function.}$"
   ]
  },
  {
   "cell_type": "markdown",
   "metadata": {
    "slideshow": {
     "slide_type": "slide"
    }
   },
   "source": [
    "## $$\\textbf{Unnormalized discrete density}$$\n",
    "<hr>\n",
    "<br> "
   ]
  },
  {
   "cell_type": "code",
   "execution_count": 25,
   "metadata": {
    "slideshow": {
     "slide_type": "fragment"
    }
   },
   "outputs": [],
   "source": [
    "x = np.linspace(-2,6, 100).astype(np.float32)\n",
    "\n",
    "f = lambda x: -(x - 2)**2/2\n",
    "p = lambda x, Z = 1: np.exp(f(x))/Z"
   ]
  },
  {
   "cell_type": "code",
   "execution_count": 26,
   "metadata": {
    "scrolled": false,
    "slideshow": {
     "slide_type": "fragment"
    }
   },
   "outputs": [
    {
     "name": "stdout",
     "output_type": "stream",
     "text": [
      "31.017876\n"
     ]
    },
    {
     "data": {
      "image/png": "[encoded data removed]",
      "text/plain": [
       "<Figure size 864x432 with 1 Axes>"
      ]
     },
     "metadata": {
      "needs_background": "light"
     },
     "output_type": "display_data"
    }
   ],
   "source": [
    "plt.figure(figsize=(12,6))\n",
    "plt.title('Unnormalized density', fontsize=25)\n",
    "plt.plot(x, p(x), linewidth=3)\n",
    "plt.grid()\n",
    "print(p(x).sum())"
   ]
  },
  {
   "cell_type": "markdown",
   "metadata": {
    "slideshow": {
     "slide_type": "slide"
    }
   },
   "source": [
    "## $$\\textbf{Normalized discrete density}$$\n",
    "<hr>\n",
    "<br> \n",
    "\n",
    "\n",
    "$$\\sum_{x} p(x) = \\frac{1}{Z}\\sum_{x} \\exp(f(x)) = 1\\quad \\Rightarrow\\quad Z = \\sum_{x} \\exp(f(x))$$"
   ]
  },
  {
   "cell_type": "code",
   "execution_count": 118,
   "metadata": {
    "slideshow": {
     "slide_type": "fragment"
    }
   },
   "outputs": [
    {
     "name": "stdout",
     "output_type": "stream",
     "text": [
      "1.0000001 <class 'numpy.float32'>\n",
      "True\n"
     ]
    },
    {
     "data": {
      "image/png": "[encoded data removed]",
      "text/plain": [
       "<Figure size 864x432 with 1 Axes>"
      ]
     },
     "metadata": {
      "needs_background": "light"
     },
     "output_type": "display_data"
    }
   ],
   "source": [
    "Z = p(x).sum()\n",
    "\n",
    "plt.figure(figsize=(12,6))\n",
    "plt.title('Normalized density', fontsize=25)\n",
    "plt.plot(x, p(x, Z), linewidth=3)\n",
    "plt.grid()\n",
    "\n",
    "val = p(x,Z).sum()\n",
    "print(val, type(val))\n",
    "print(np.isclose(1., val, rtol=1e-6))\n",
    "\n",
    "#np.testing.assert_allclose(1., val)"
   ]
  },
  {
   "cell_type": "markdown",
   "metadata": {
    "slideshow": {
     "slide_type": "slide"
    }
   },
   "source": [
    "## $$\\textbf{Log-density function}$$\n",
    "<hr>\n",
    "<br> \n",
    "\n",
    "* $\\text{Numerically stable pdf computation}$\n",
    "<br>\n",
    "<br>\n",
    "\n",
    "$${\\Large{\n",
    "\\ln p(x) = -  \\ln Z + f(x)\n",
    "}}$$"
   ]
  },
  {
   "cell_type": "markdown",
   "metadata": {
    "slideshow": {
     "slide_type": "slide"
    }
   },
   "source": [
    "## $$\\textbf{Poisson probability mass function}$$\n",
    "<hr>\n",
    "<br> \n",
    "\n",
    "$$\\Large{\n",
    "p(k | \\lambda) = {\\frac{\\lambda^k}{k !}} \\exp(-\\lambda), \\quad k \\geq 0\n",
    "}$$"
   ]
  },
  {
   "cell_type": "code",
   "execution_count": 60,
   "metadata": {
    "slideshow": {
     "slide_type": "fragment"
    }
   },
   "outputs": [],
   "source": [
    "from scipy.special import factorial\n",
    "\n",
    "def poisson_pmf(k, lambd):\n",
    "    return lambd**k * np.exp(-lambd)/factorial(k) "
   ]
  },
  {
   "cell_type": "code",
   "execution_count": 61,
   "metadata": {
    "slideshow": {
     "slide_type": "fragment"
    }
   },
   "outputs": [
    {
     "name": "stdout",
     "output_type": "stream",
     "text": [
      "2.984\n",
      "[0 3 4 9]\n"
     ]
    }
   ],
   "source": [
    "from scipy.stats import poisson\n",
    "\n",
    "# Draw samples from Poisson distribution\n",
    "lambd = 3\n",
    "\n",
    "pos = poisson(lambd)\n",
    "k =  np.sort(pos.rvs(500))\n",
    "\n",
    "print(np.mean(k))\n",
    "print(k[[20, 294, 335, -1]])"
   ]
  },
  {
   "cell_type": "code",
   "execution_count": 62,
   "metadata": {
    "scrolled": true,
    "slideshow": {
     "slide_type": "fragment"
    }
   },
   "outputs": [
    {
     "data": {
      "image/png": "[encoded data removed]",
      "text/plain": [
       "<Figure size 864x288 with 1 Axes>"
      ]
     },
     "metadata": {
      "needs_background": "light"
     },
     "output_type": "display_data"
    }
   ],
   "source": [
    "pmf = poisson_pmf(k, lambd)\n",
    "\n",
    "plt.figure(figsize=(12,4))\n",
    "plt.xticks(np.arange(10))\n",
    "plt.title('Poisson mass function', fontsize=20)\n",
    "plt.hist(k, bins=20, density=True, rwidth=0.8, alpha=0.5)\n",
    "plt.plot(k,  pmf, 's--', linewidth=3, c='r', label='$\\lambda=$'+f'{lambd}', alpha=0.5)\n",
    "plt.legend(fontsize=15)\n",
    "plt.grid()"
   ]
  },
  {
   "cell_type": "markdown",
   "metadata": {
    "slideshow": {
     "slide_type": "slide"
    }
   },
   "source": [
    "## $$\\textbf{Poisson log-probability mass function}$$\n",
    "<hr>\n",
    "<br> \n"
   ]
  },
  {
   "cell_type": "code",
   "execution_count": 57,
   "metadata": {
    "slideshow": {
     "slide_type": "fragment"
    }
   },
   "outputs": [
    {
     "data": {
      "text/plain": [
       "2.7494028058340025e-112"
      ]
     },
     "execution_count": 57,
     "metadata": {},
     "output_type": "execute_result"
    }
   ],
   "source": [
    "large_k = 100\n",
    "poisson_pmf(large_k, lambd)"
   ]
  },
  {
   "cell_type": "markdown",
   "metadata": {
    "slideshow": {
     "slide_type": "fragment"
    }
   },
   "source": [
    "$$\\Large{\n",
    "\\ln p(k |\\lambda) = k \\ln \\lambda - \\ln{k !}  -\\lambda , \\quad k \\geq 0 }\n",
    "$$\n",
    "\n",
    "<hr>\n",
    "$$\\Large{\n",
    "k ! = \\Gamma(k + 1), \\quad \\Gamma(x) = \\int_{0}^{\\infty} t^{x - 1}\\exp^{-t} dt \n",
    "}$$"
   ]
  },
  {
   "cell_type": "code",
   "execution_count": 58,
   "metadata": {
    "slideshow": {
     "slide_type": "fragment"
    }
   },
   "outputs": [],
   "source": [
    "from scipy.special import loggamma\n",
    "\n",
    "def log_poisson_pmf(k, lambd):\n",
    "    return k*np.log(lambd) - loggamma(k+1) - lambd "
   ]
  },
  {
   "cell_type": "code",
   "execution_count": 63,
   "metadata": {
    "slideshow": {
     "slide_type": "fragment"
    }
   },
   "outputs": [
    {
     "data": {
      "text/plain": [
       "True"
      ]
     },
     "execution_count": 63,
     "metadata": {},
     "output_type": "execute_result"
    }
   ],
   "source": [
    "log_pmf = log_poisson_pmf(k, lambd) \n",
    "\n",
    "np.allclose(pmf, np.exp(log_pmf))"
   ]
  },
  {
   "cell_type": "markdown",
   "metadata": {
    "slideshow": {
     "slide_type": "slide"
    }
   },
   "source": [
    "## $$\\textbf{Normalizing constant of a log-density function}$$\n",
    "<hr>\n",
    "<br> \n",
    "\n",
    "* $\\text{Numerically stable pdf computation}$\n",
    "<br>\n",
    "<br>\n",
    "\n",
    "$${\\Large{\n",
    "0 = \\ln \\sum_{x} p(x) = \\ln\\bigg[ \\frac{1}Z \\sum_{x} \\exp {f(x)}\\bigg] = -\\ln Z + \\ln\\sum_{x} \\exp(f(x))\n",
    "}}$$\n"
   ]
  },
  {
   "cell_type": "markdown",
   "metadata": {
    "slideshow": {
     "slide_type": "fragment"
    }
   },
   "source": [
    "\n",
    "$$\\Large{\n",
    "\\ln Z = \\ln \\underbrace{\\sum_{x} \\exp(f(x))}_{\\text{sum of exp}}\n",
    "}$$"
   ]
  },
  {
   "cell_type": "markdown",
   "metadata": {
    "slideshow": {
     "slide_type": "slide"
    }
   },
   "source": [
    "## $$\\textbf{Log-Sum-Exp trick}$$\n",
    "<hr>\n",
    "<br> "
   ]
  },
  {
   "cell_type": "markdown",
   "metadata": {
    "slideshow": {
     "slide_type": "fragment"
    }
   },
   "source": [
    "* $\\text{Given}\\> x = \\{x1, x2, \\cdots, x_n\\},\\> \\text{where}\\> n \\in \\mathbb{N}$\n",
    "\n",
    "$$ y = \\ln \\sum_{n=1}^N e^{x_n}\\quad  \\Rightarrow \\quad e^y = \\sum_{n=1}^N e^{x_n}$$"
   ]
  },
  {
   "cell_type": "markdown",
   "metadata": {
    "slideshow": {
     "slide_type": "fragment"
    }
   },
   "source": [
    "* $\\text{Multiply both sides by}\\> e^{-a} \\neq 0 $\n",
    "$$ e^{-a} e^y = e^{-a}\\sum_{n=1}^N e^{x_n} \\quad  \\Rightarrow \\quad e^{y-a} = \\sum_{n=1}^N e^{x_n - a}$$"
   ]
  },
  {
   "cell_type": "markdown",
   "metadata": {
    "slideshow": {
     "slide_type": "fragment"
    }
   },
   "source": [
    "$$ {y-a} = \\ln \\sum_{n=1}^N e^{x_n - a} \\quad  \\Rightarrow \\quad y = a + \\ln \\sum_{n=1}^N e^{x_n - a} $$"
   ]
  },
  {
   "cell_type": "markdown",
   "metadata": {
    "slideshow": {
     "slide_type": "fragment"
    }
   },
   "source": [
    "$$\\boxed{y = \\ln \\sum_{n=1}^N e^{x_n} = a + \\ln \\sum_{n=1}^N e^{x_n - a},\\quad a = \\max(x_i),\\quad i = \\overline{1,\\cdots,N}}$$"
   ]
  },
  {
   "cell_type": "markdown",
   "metadata": {
    "slideshow": {
     "slide_type": "slide"
    }
   },
   "source": [
    "## $$\\textbf{Linear Algebra}$$\n",
    "<hr>\n",
    "<br> "
   ]
  },
  {
   "cell_type": "markdown",
   "metadata": {
    "slideshow": {
     "slide_type": "fragment"
    }
   },
   "source": [
    "\n",
    "#### $\\textbf{Many machine learning techniques are based on linear algebra.}$ \n",
    "\n",
    "<br>\n",
    "\n",
    "* $\\text{Trace operator and matrix norms}$ \n",
    "<br>\n",
    "\n",
    "* $\\text{Solving a system of linear equations}$\n",
    "<br>\n",
    "\n",
    "* $\\text{Singular value decomposiotion}$"
   ]
  },
  {
   "cell_type": "markdown",
   "metadata": {
    "slideshow": {
     "slide_type": "slide"
    }
   },
   "source": [
    "### $$\\textbf{Trace operator}$$\n",
    "<hr>\n",
    "<br> \n",
    "\n",
    "$$ tr(X) = \\sum_{i=1}^N X_{ii}, \\quad X \\in \\mathbb{R}^{(N,M)}$$\n",
    "<hr>\n",
    "\n",
    "* $\\text{Usefull Properties}$:\n",
    "\n",
    "$$ a = tr(a),\\quad a \\in \\mathbb{R} $$\n",
    "\n",
    "$$ tr(A) + tr(B) = tr( A + B)$$\n",
    "\n",
    "$$ tr(ABC) = tr(CAB) = tr(BCA) $$"
   ]
  },
  {
   "cell_type": "code",
   "execution_count": 65,
   "metadata": {
    "slideshow": {
     "slide_type": "fragment"
    }
   },
   "outputs": [],
   "source": [
    "import numpy.random as rnd\n",
    "\n",
    "X = rnd.normal(0, 1, size=(50,50))\n",
    "\n",
    "assert np.diag(X).sum() == np.trace(X)"
   ]
  },
  {
   "cell_type": "code",
   "execution_count": 66,
   "metadata": {
    "slideshow": {
     "slide_type": "fragment"
    }
   },
   "outputs": [],
   "source": [
    "a = 10\n",
    "\n",
    "A = rnd.normal(0,1,(10,20))\n",
    "B = rnd.normal(0,1,(20,10))\n",
    "C = rnd.normal(0,1,(10,10))\n",
    "\n",
    "assert a == np.trace([[a]])\n",
    "\n",
    "assert np.allclose(np.trace(A) + np.trace(B.T), np.trace(A + B.T)) \n",
    "\n",
    "assert np.allclose(np.trace(A @ B @ C),np.trace(C @ A @ B))\n",
    "assert np.allclose(np.trace(C @ A @ B),np.trace(B @ C @ A))"
   ]
  },
  {
   "cell_type": "markdown",
   "metadata": {
    "slideshow": {
     "slide_type": "slide"
    }
   },
   "source": [
    "## $$\\textbf{Matrix norms}$$\n",
    "<hr>\n",
    "<br>  \n",
    "\n",
    "* $\\text{Frobenius norm with trace operator:}$\n",
    "\n",
    "$$|| X ||_{Fro} = \\sqrt{tr(XX^{\\top})}$$"
   ]
  },
  {
   "cell_type": "code",
   "execution_count": 77,
   "metadata": {
    "slideshow": {
     "slide_type": "fragment"
    }
   },
   "outputs": [],
   "source": [
    "l2_norm = lambda X: np.trace(X @ X.T)**0.5"
   ]
  },
  {
   "cell_type": "code",
   "execution_count": 78,
   "metadata": {
    "slideshow": {
     "slide_type": "fragment"
    }
   },
   "outputs": [
    {
     "data": {
      "text/plain": [
       "True"
      ]
     },
     "execution_count": 78,
     "metadata": {},
     "output_type": "execute_result"
    }
   ],
   "source": [
    "import numpy.linalg as la\n",
    "\n",
    "X = rnd.normal(0,1, size=(10,20))\n",
    "\n",
    "np.allclose(l2_norm(X), la.norm(X, ord='fro')) # ord = {'inf', 'nuc', p-norm }"
   ]
  },
  {
   "cell_type": "markdown",
   "metadata": {
    "slideshow": {
     "slide_type": "slide"
    }
   },
   "source": [
    "## $$\\textbf{Sum of row vectors with Trace}$$\n",
    "<hr>\n",
    "\n",
    "$$X \\in \\mathbb{R}^{(N,D)} $$\n",
    "\n",
    "$$y = \\sum_{n=1}^N x_{n} x_n^{\\top} = {\\sum_{n=1}^N tr(x_n^{\\top}x_n)} = tr{(X^{\\top} X)}$$"
   ]
  },
  {
   "cell_type": "code",
   "execution_count": 75,
   "metadata": {
    "slideshow": {
     "slide_type": "fragment"
    }
   },
   "outputs": [
    {
     "name": "stdout",
     "output_type": "stream",
     "text": [
      "215.20588262346007 215.20588262346007\n"
     ]
    },
    {
     "data": {
      "text/plain": [
       "True"
      ]
     },
     "execution_count": 75,
     "metadata": {},
     "output_type": "execute_result"
    }
   ],
   "source": [
    "X = rnd.normal(0,1, size=(10,20))\n",
    "\n",
    "y = np.sum([x @ x.T for x in X])\n",
    "\n",
    "print(y, np.trace(X.T @ X))\n",
    "\n",
    "np.allclose(y, np.trace(X.T @ X), atol=1e-17)"
   ]
  },
  {
   "cell_type": "markdown",
   "metadata": {
    "slideshow": {
     "slide_type": "slide"
    }
   },
   "source": [
    "## $$\\textbf{Solving a system of linear equations}$$\n",
    "<hr>\n",
    "\n",
    "Like\n",
    "$$ 3x_0 + x1 = 9, \\quad x_0 + 2x_1 = 8$$\n",
    "or\n",
    "$$ A X = B, \\quad A = [[3,1],[1,2]] \\quad B = [9,8]$$"
   ]
  },
  {
   "cell_type": "code",
   "execution_count": 80,
   "metadata": {
    "slideshow": {
     "slide_type": "fragment"
    }
   },
   "outputs": [
    {
     "name": "stdout",
     "output_type": "stream",
     "text": [
      "[9, 8] [9. 8.]\n"
     ]
    }
   ],
   "source": [
    "A = [[3,1],[1,2]]\n",
    "B = [9,8]\n",
    "\n",
    "X = la.solve(A, B)\n",
    "\n",
    "print(B, A @ X)\n",
    "\n",
    "assert np.allclose(A @ X, B)"
   ]
  },
  {
   "cell_type": "markdown",
   "metadata": {
    "slideshow": {
     "slide_type": "slide"
    }
   },
   "source": [
    "## $$\\textbf{Linear regression}$$\n",
    "<hr>\n",
    "\n",
    "* $\\text{The model assumes that the data is generated as following:}$\n",
    "\n",
    "$$\n",
    "y_n = \\beta_1 x_n + \\beta_2 + \\epsilon_n, \\quad n = \\overline{1..N},\\quad \\epsilon_n \\sim \\mathcal{N}(0,\\sigma^2)\n",
    "$$\n",
    "\n",
    "$\\text{or}$\n",
    "\n",
    "$$\n",
    "y = \\beta_1\\hat{X} + \\beta_2\\mathbb{1}_{N} + \\mathcal{E}, \\quad \\text{where}  \\quad y, \\hat{X} , \\mathcal{E} \\in \\mathbb{R}^{(N,1)} \n",
    "$$"
   ]
  },
  {
   "cell_type": "markdown",
   "metadata": {
    "slideshow": {
     "slide_type": "slide"
    }
   },
   "source": [
    "## $$\\textbf{Linear regeression matrix form}$$\n",
    "<hr>\n",
    "\n",
    "$$\n",
    "y = [ \\beta_1, \\beta_2 ] \\times [ \\hat{X} , \\mathbb{1}_{N}]^{\\top} + \\mathcal{E}\n",
    "$$\n",
    "<hr>\n",
    "$$\n",
    "y = \\beta \\times {X}^{\\top} + \\mathcal{E}, \\quad \\text{where} \\quad \\beta = [\\beta_1,\\beta_2] \\in \\mathbb{R}^{(2)}, \\quad \\text{and} \\quad X = [ \\hat{X} , \\mathbb{1}_{N}] \\in \\mathbb{R}^{(N,2)}\n",
    "$$\n",
    "<br>\n",
    "\n",
    "$\\textbf{**Task**}\\> \\text{Find the best linear fit of a labeled dataset.}$"
   ]
  },
  {
   "cell_type": "markdown",
   "metadata": {
    "slideshow": {
     "slide_type": "slide"
    }
   },
   "source": [
    "## $$\\textbf{Toy data generation}$$\n",
    "<hr>\n"
   ]
  },
  {
   "cell_type": "code",
   "execution_count": 82,
   "metadata": {
    "scrolled": true,
    "slideshow": {
     "slide_type": "fragment"
    }
   },
   "outputs": [
    {
     "name": "stdout",
     "output_type": "stream",
     "text": [
      "(250, 2)\n",
      "(250,)\n"
     ]
    },
    {
     "data": {
      "image/png": "[encoded data removed]",
      "text/plain": [
       "<Figure size 720x288 with 1 Axes>"
      ]
     },
     "metadata": {
      "needs_background": "light"
     },
     "output_type": "display_data"
    }
   ],
   "source": [
    "# Create a dataset\n",
    "rnd.seed(42)\n",
    "\n",
    "N = 250 # number of data points\n",
    "\n",
    "X = np.random.normal(0, 5, size = (N, 1))\n",
    "\n",
    "X_ones = np.ones_like(X)\n",
    "\n",
    "X = np.c_[(X, X_ones)] # column-wise concatenation\n",
    "\n",
    "print(X.shape)\n",
    "\n",
    "# Create targets (outputs) and make them depend on X in some way\n",
    "y = 0.5 * X[:, 0] + 0.05 * X[:, 0] ** 2 + 0.5\n",
    "print(y.shape)\n",
    "\n",
    "plt.figure(figsize = (10,4))\n",
    "plt.scatter(X[:, 0], y)\n",
    "plt.xlabel('X')\n",
    "plt.ylabel('y')\n",
    "plt.margins(0.3)"
   ]
  },
  {
   "cell_type": "markdown",
   "metadata": {
    "slideshow": {
     "slide_type": "slide"
    }
   },
   "source": [
    "* $\\textbf{Add some random noise}\\> \\mathcal{E}_n \\sim \\mathcal{N}(0, \\sigma^2)$"
   ]
  },
  {
   "cell_type": "code",
   "execution_count": 84,
   "metadata": {
    "scrolled": true,
    "slideshow": {
     "slide_type": "fragment"
    }
   },
   "outputs": [
    {
     "data": {
      "image/png": "[encoded data removed]",
      "text/plain": [
       "<Figure size 720x288 with 1 Axes>"
      ]
     },
     "metadata": {
      "needs_background": "light"
     },
     "output_type": "display_data"
    }
   ],
   "source": [
    "sigma2 = 1\n",
    "\n",
    "Eps = np.random.normal(0, sigma2, (N)) # random noise\n",
    "\n",
    "y += Eps # add noise to the targets\n",
    "\n",
    "plt.figure(figsize = (10,4))\n",
    "plt.scatter(X[:, 0], y)\n",
    "plt.xlabel('X')\n",
    "plt.ylabel('y')\n",
    "plt.margins(0.3)"
   ]
  },
  {
   "cell_type": "markdown",
   "metadata": {
    "slideshow": {
     "slide_type": "slide"
    }
   },
   "source": [
    "* $\\text{Split dataset randomly into *train* and *test* datasets}$"
   ]
  },
  {
   "cell_type": "code",
   "execution_count": 86,
   "metadata": {
    "slideshow": {
     "slide_type": "fragment"
    }
   },
   "outputs": [],
   "source": [
    "# Use a function from sklearn package\n",
    "\n",
    "from sklearn.model_selection import train_test_split\n",
    "\n",
    "split_ratio = 0.8\n",
    "\n",
    "X_tr, X_te, y_tr, y_te = train_test_split(X, y, \n",
    "                                          test_size=1-split_ratio, \n",
    "                                          random_state=42)"
   ]
  },
  {
   "cell_type": "markdown",
   "metadata": {
    "slideshow": {
     "slide_type": "slide"
    }
   },
   "source": [
    "## $$\\textbf{Linear regeression analytic solution}$$\n",
    "<hr>"
   ]
  },
  {
   "cell_type": "markdown",
   "metadata": {
    "slideshow": {
     "slide_type": "slide"
    }
   },
   "source": [
    "* $\\text{The solution of the linear regression model is given by:}$\n",
    "<hr>\n",
    "\n",
    "$${\\boxed{\\beta = (X_\\text{tr}^\\top X_\\text{tr})^{-1} X_\\text{tr}^\\top y_\\text{tr}}}$$\n",
    "\n",
    "* $\\text{And the prediction for new \"test\" points by:}$\n",
    "<hr>\n",
    "\n",
    "$${\\hat y_\\text{te} = X_\\text{te} \\beta}$$"
   ]
  },
  {
   "cell_type": "code",
   "execution_count": 87,
   "metadata": {
    "slideshow": {
     "slide_type": "fragment"
    }
   },
   "outputs": [
    {
     "data": {
      "text/plain": [
       "array([0.58857575, 1.72534516])"
      ]
     },
     "execution_count": 87,
     "metadata": {},
     "output_type": "execute_result"
    }
   ],
   "source": [
    "beta = la.inv(X_tr.T @ X_tr) @ X_tr.T @ y_tr\n",
    "\n",
    "y_te_predict = X_te @ beta\n",
    "\n",
    "beta"
   ]
  },
  {
   "cell_type": "code",
   "execution_count": 89,
   "metadata": {
    "slideshow": {
     "slide_type": "fragment"
    }
   },
   "outputs": [
    {
     "data": {
      "image/png": "[encoded data removed]",
      "text/plain": [
       "<Figure size 864x432 with 1 Axes>"
      ]
     },
     "metadata": {
      "needs_background": "light"
     },
     "output_type": "display_data"
    }
   ],
   "source": [
    "# Plot the data and the prediction\n",
    "plt.figure(figsize = (12,6))\n",
    "plt.scatter(X_tr[:, 0], y_tr, alpha=.3, label='train data')\n",
    "plt.scatter(X_te[:, 0], y_te, color='g', label='test data')\n",
    "plt.xlabel('X')\n",
    "plt.ylabel('y')\n",
    "\n",
    "plt.plot(X_te[:, 0],y_te_predict, '-', color='r', label='predicted values')\n",
    "plt.xlabel('X')\n",
    "plt.ylabel('y')\n",
    "plt.legend()\n",
    "plt.margins(0.3)"
   ]
  },
  {
   "cell_type": "markdown",
   "metadata": {
    "slideshow": {
     "slide_type": "slide"
    }
   },
   "source": [
    "* $\\textbf{Compute the *root mean square error* (RMSE) for the predicted outputs:}$\n",
    "<hr>\n",
    "\n",
    "$$\\text{RMSE} = \\sqrt{\\frac{1}{N}\\sum_{n=1}^N(\\hat{y}_{\\text{te}_n} - y_{\\text{te}_n} )^2}$$\n",
    "<br>"
   ]
  },
  {
   "cell_type": "code",
   "execution_count": 90,
   "metadata": {
    "slideshow": {
     "slide_type": "fragment"
    }
   },
   "outputs": [
    {
     "data": {
      "text/plain": [
       "'RMSE: 1.86 where y_tr std: 3.707'"
      ]
     },
     "execution_count": 90,
     "metadata": {},
     "output_type": "execute_result"
    }
   ],
   "source": [
    "rmse = np.square(y_te_predict - y_te).mean()**0.5\n",
    "\n",
    "f\"RMSE: {rmse:0.2f} where y_tr std: {np.std(y_tr):0.3f}\""
   ]
  },
  {
   "cell_type": "markdown",
   "metadata": {
    "slideshow": {
     "slide_type": "slide"
    }
   },
   "source": [
    "## $$\\textbf{Principal component analysis (PCA)}$$\n",
    "<hr>\n"
   ]
  },
  {
   "cell_type": "markdown",
   "metadata": {
    "slideshow": {
     "slide_type": "fragment"
    }
   },
   "source": [
    "\n",
    "$\\text{PCA is a technique widely used for applications such as}$\n",
    "\n",
    " * $\\text{dimensionality reduction}$\n",
    " * $\\text{lossy data compression}$\n",
    " * $\\text{feature extraction}$\n",
    " * $\\text{data visualization}$"
   ]
  },
  {
   "cell_type": "markdown",
   "metadata": {
    "slideshow": {
     "slide_type": "fragment"
    }
   },
   "source": [
    "$\\text{There are two commonly used definitions of PCA:}$\n",
    "\n",
    " * $\\text{Orthogonal projection onto lower dimensional linear space\n",
    "    such that the variance of projected data is maximized.}$\n",
    "    \n",
    " * $\\text{Linear projection that minimizes the average projection}$\n",
    "    $\\text{cost, defined as the mean squared distance between the\n",
    "    data and their projections.}$"
   ]
  },
  {
   "cell_type": "markdown",
   "metadata": {
    "slideshow": {
     "slide_type": "slide"
    }
   },
   "source": [
    "## $$\\textbf{Singular value decomposition (SVD)}$$\n",
    "<hr>\n",
    "\n",
    "\n",
    "$\\text{The Singular-Value Decomposition, or SVD for short,}$\n",
    "\n",
    "$\\text{is a matrix decomposition method for reducing a matrix to its constituent parts}$\n",
    "\n",
    "$\\text{in order to make e.g. certain subsequent matrix calculations like matrix inversion simpler.}$\n",
    "\n",
    "<br><br>\n",
    "\n",
    "<center>\n",
    "    <img src=\"./images/SVD.png\" width='400'/>"
   ]
  },
  {
   "cell_type": "markdown",
   "metadata": {
    "slideshow": {
     "slide_type": "slide"
    }
   },
   "source": [
    "## $$\\textbf{Create a random dataset with correlated feature dependency}$$\n",
    "<hr>"
   ]
  },
  {
   "cell_type": "code",
   "execution_count": 91,
   "metadata": {
    "slideshow": {
     "slide_type": "fragment"
    }
   },
   "outputs": [
    {
     "data": {
      "image/png": "[encoded data removed]",
      "text/plain": [
       "<Figure size 360x360 with 1 Axes>"
      ]
     },
     "metadata": {
      "needs_background": "light"
     },
     "output_type": "display_data"
    }
   ],
   "source": [
    "rnd.seed(42)\n",
    "N = 250\n",
    "M = np.random.normal(0, 5, (N, 2))\n",
    "\n",
    "# create some correlation between dimensions\n",
    "M[:, 1] -= 1.5 * M[:, 0]\n",
    "\n",
    "# Plot the centered dataset\n",
    "plt.figure(figsize=(5, 5))\n",
    "plt.scatter(*M.T)\n",
    "\n",
    "_=plt.axis([-30, 30, -30, 30])"
   ]
  },
  {
   "cell_type": "markdown",
   "metadata": {
    "slideshow": {
     "slide_type": "slide"
    }
   },
   "source": [
    "## $$\\textbf{Find the principal components via SVD}$$\n",
    "<hr>\n"
   ]
  },
  {
   "cell_type": "code",
   "execution_count": 101,
   "metadata": {
    "slideshow": {
     "slide_type": "fragment"
    }
   },
   "outputs": [
    {
     "name": "stdout",
     "output_type": "stream",
     "text": [
      "U shape:  (250, 2)\n",
      "Sigma shape: (2,)\n",
      "V shape: (2, 2)\n"
     ]
    }
   ],
   "source": [
    "# PCA only applies to centered data, so we center the data\n",
    "M -= M.mean(axis=0)\n",
    "\n",
    "U, Sigma, V = la.svd(M , full_matrices = False)\n",
    "\n",
    "print(\"U shape: \", U.shape)\n",
    "print(\"Sigma shape:\", Sigma.shape)\n",
    "print(\"V shape:\", V.shape)\n",
    "\n",
    "X = U @ np.diag(Sigma) @ V.T # SVD reconstruction\n",
    "\n",
    "assert np.allclose(np.sum(M - X) , 0)"
   ]
  },
  {
   "cell_type": "markdown",
   "metadata": {
    "slideshow": {
     "slide_type": "slide"
    }
   },
   "source": [
    "## $$\\textbf{Project any point to the axis representing highest data variance}$$\n",
    "<hr>\n"
   ]
  },
  {
   "cell_type": "code",
   "execution_count": 103,
   "metadata": {
    "slideshow": {
     "slide_type": "fragment"
    }
   },
   "outputs": [],
   "source": [
    "HAT1 = np.outer(V[0], V[0]) # 1st component\n",
    "HAT2 = np.outer(V[1], V[1]) # 2d component\n",
    "\n",
    "Mtest = rnd.uniform(-20, 20, (500, 2)) # random test data to project\n",
    "\n",
    "# Project some test data onto the fisrt principal compenent\n",
    "MtestPCA1 = Mtest @ HAT1\n",
    "\n",
    "# Project some test data onto the second principal compenent\n",
    "MtestPCA2 = Mtest @ HAT2"
   ]
  },
  {
   "cell_type": "code",
   "execution_count": 104,
   "metadata": {
    "scrolled": true,
    "slideshow": {
     "slide_type": "fragment"
    }
   },
   "outputs": [
    {
     "data": {
      "image/png": "[encoded data removed]",
      "text/plain": [
       "<Figure size 576x576 with 1 Axes>"
      ]
     },
     "metadata": {
      "needs_background": "light"
     },
     "output_type": "display_data"
    }
   ],
   "source": [
    "# Plot the original data and the projected test data\n",
    "plt.figure(figsize=(8, 8))\n",
    "\n",
    "plt.scatter(*M.T)  # equivalent to M.T[0], M.T[1]\n",
    "\n",
    "plt.plot(*Mtest.T, 'o', color='g', ms=1, label='test data')\n",
    "plt.plot(*MtestPCA1.T, 'o-', color='r', ms=2, label='1st comp')\n",
    "plt.plot(*MtestPCA2.T, 'o-', color='k', ms=2, label='2d comp')\n",
    "plt.legend(fontsize=15)\n",
    "_= plt.axis([-30, 30, -30, 30])"
   ]
  },
  {
   "cell_type": "markdown",
   "metadata": {
    "slideshow": {
     "slide_type": "slide"
    }
   },
   "source": [
    "## $$\\textbf{Sklearn PCA}$$\n",
    "<hr>"
   ]
  },
  {
   "cell_type": "code",
   "execution_count": 105,
   "metadata": {
    "slideshow": {
     "slide_type": "slide"
    }
   },
   "outputs": [],
   "source": [
    "from sklearn.decomposition import PCA"
   ]
  },
  {
   "cell_type": "code",
   "execution_count": 106,
   "metadata": {
    "slideshow": {
     "slide_type": "fragment"
    }
   },
   "outputs": [
    {
     "name": "stdout",
     "output_type": "stream",
     "text": [
      "(500, 2)\n"
     ]
    },
    {
     "data": {
      "text/plain": [
       "(500, 1)"
      ]
     },
     "execution_count": 106,
     "metadata": {},
     "output_type": "execute_result"
    }
   ],
   "source": [
    "pca = PCA(n_components=2)\n",
    "\n",
    "pca.fit(M) # N, 100\n",
    "print(Mtest.shape)\n",
    "\n",
    "M_pr = pca.transform(Mtest)\n",
    "M_pr.shape"
   ]
  },
  {
   "cell_type": "markdown",
   "metadata": {
    "slideshow": {
     "slide_type": "slide"
    }
   },
   "source": [
    "## $$\\textbf{Thank you for your attention}$$"
   ]
  }
 ],
 "metadata": {
  "celltoolbar": "Slideshow",
  "kernelspec": {
   "display_name": "Python 3",
   "language": "python",
   "name": "python3"
  },
  "language_info": {
   "codemirror_mode": {
    "name": "ipython",
    "version": 3
   },
   "file_extension": ".py",
   "mimetype": "text/x-python",
   "name": "python",
   "nbconvert_exporter": "python",
   "pygments_lexer": "ipython3",
   "version": "3.7.6"
  }
 },
 "nbformat": 4,
 "nbformat_minor": 2
}
