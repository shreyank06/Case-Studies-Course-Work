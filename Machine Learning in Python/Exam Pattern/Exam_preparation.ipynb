{
 "cells": [
  {
   "cell_type": "code",
   "execution_count": 1,
   "metadata": {
    "slideshow": {
     "slide_type": "-"
    }
   },
   "outputs": [
    {
     "data": {
      "text/html": [
       "\n",
       "<style>\n",
       ".output_png {\n",
       "    display: table-cell;\n",
       "    text-align: center;\n",
       "    margin:auto;\n",
       "}\n",
       ".prompt \n",
       "    display:none;\n",
       "}\n",
       "</style>\n"
      ],
      "text/plain": [
       "<IPython.core.display.HTML object>"
      ]
     },
     "execution_count": 1,
     "metadata": {},
     "output_type": "execute_result"
    }
   ],
   "source": [
    "from IPython.core.display import HTML\n",
    "HTML(\"\"\"\n",
    "<style>\n",
    ".output_png {\n",
    "    display: table-cell;\n",
    "    text-align: center;\n",
    "    margin:auto;\n",
    "}\n",
    ".prompt \n",
    "    display:none;\n",
    "}\n",
    "</style>\n",
    "\"\"\")"
   ]
  },
  {
   "cell_type": "markdown",
   "metadata": {
    "slideshow": {
     "slide_type": "slide"
    }
   },
   "source": [
    "# $$\\textbf{Python Programming for Machine Learning} $$ \n",
    "\n",
    "#### $$\\text{Summer 2020}$$\n",
    "\n",
    "## $$\\text{Exam preparation session} $$\n",
    "\n",
    "#### $$\\text{Sergej Dogadov} \\quad \\text{Philine Thalia Görzig} \\quad \\text{Panagiotis Tomer Karagiannis}$$\n",
    "\n",
    "<center>\n",
    "<img src='images/pyt.png' width=250>"
   ]
  },
  {
   "cell_type": "markdown",
   "metadata": {
    "slideshow": {
     "slide_type": "slide"
    }
   },
   "source": [
    "## $$\\textbf{Exercice 1: Code understanding ( 5 x 5 = 25 Points )}$$\n",
    "<hr>\n",
    "<br> "
   ]
  },
  {
   "cell_type": "markdown",
   "metadata": {
    "slideshow": {
     "slide_type": "fragment"
    }
   },
   "source": [
    "<br>\n",
    "\n",
    "In this exercise, you are given existing codes and need to determine their output. In your answers, make sure\n",
    "to distinguish between different types like integers, strings and floats by using quotes, suffix “.0” and etc.\n",
    "Output for the first line is given as an example."
   ]
  },
  {
   "cell_type": "code",
   "execution_count": 2,
   "metadata": {
    "slideshow": {
     "slide_type": "-"
    }
   },
   "outputs": [
    {
     "name": "stdout",
     "output_type": "stream",
     "text": [
      "[1, 1.0, '1']\n"
     ]
    }
   ],
   "source": [
    "#Example\n",
    "print( [int(1),float(1),str(1)] )"
   ]
  },
  {
   "cell_type": "markdown",
   "metadata": {
    "slideshow": {
     "slide_type": "slide"
    }
   },
   "source": [
    "## $$\\textbf{Exercise 1.1: Types}$$\n",
    "<hr>\n",
    "<br> "
   ]
  },
  {
   "cell_type": "code",
   "execution_count": 9,
   "metadata": {
    "slideshow": {
     "slide_type": "fragment"
    }
   },
   "outputs": [
    {
     "name": "stdout",
     "output_type": "stream",
     "text": [
      "[-8.0, '4', (3, 3), True]\n"
     ]
    }
   ],
   "source": [
    "# Given expression\n",
    "\n",
    "print( [-0.5*2**4, str(643)[-2]] + [ tuple(2*[3]), (0 != 1) == True] ) "
   ]
  },
  {
   "cell_type": "markdown",
   "metadata": {
    "slideshow": {
     "slide_type": "slide"
    }
   },
   "source": [
    "## $$\\textbf{Exercise 1.2: Functions}$$\n",
    "<hr>\n",
    "<br>"
   ]
  },
  {
   "cell_type": "code",
   "execution_count": 62,
   "metadata": {
    "slideshow": {
     "slide_type": "fragment"
    }
   },
   "outputs": [],
   "source": [
    "# Given a function\n",
    "\n",
    "def pmae(X, Y, p=0.5):\n",
    "    sm = 0\n",
    "    for n,x in enumerate(X,10): # ['d', 34, (32,4)]  n = 10,11,12,...\n",
    "        sm += abs(x - Y[n])\n",
    "    sm /= (n+1)\n",
    "    return tuple([sm**p, p])"
   ]
  },
  {
   "cell_type": "code",
   "execution_count": 64,
   "metadata": {
    "slideshow": {
     "slide_type": "fragment"
    }
   },
   "outputs": [
    {
     "name": "stdout",
     "output_type": "stream",
     "text": [
      "(45.5625, 2)\n"
     ]
    }
   ],
   "source": [
    "# What is the output\n",
    "\n",
    "args = ([1,-2, 3],[-5, 8, -8], 2)\n",
    "print(pmae(*args))"
   ]
  },
  {
   "cell_type": "markdown",
   "metadata": {
    "slideshow": {
     "slide_type": "slide"
    }
   },
   "source": [
    "## $$\\textbf{Exercise 1.3: Broadcasting}$$\n",
    "<hr>\n",
    "<br>"
   ]
  },
  {
   "cell_type": "code",
   "execution_count": 4,
   "metadata": {
    "slideshow": {
     "slide_type": "fragment"
    }
   },
   "outputs": [
    {
     "name": "stdout",
     "output_type": "stream",
     "text": [
      "[[ 0.  2.  4.]\n",
      " [ 3.  5.  7.]\n",
      " [ 8. 10. 12.]]\n"
     ]
    }
   ],
   "source": [
    "import numpy as np\n",
    "\n",
    "X = np.arange(-2,10,4).reshape((1, 3)) #-2,2,6\n",
    "Y = np.array([1,2,3])**2 \n",
    "Y = Y[:,None] \n",
    "\n",
    "# What is the output\n",
    "print(0.5*X + Y)"
   ]
  },
  {
   "cell_type": "markdown",
   "metadata": {
    "slideshow": {
     "slide_type": "slide"
    }
   },
   "source": [
    "## $$\\textbf{Exercise 1.4: Dictionaries}$$\n",
    "<hr>\n",
    "<br>"
   ]
  },
  {
   "cell_type": "code",
   "execution_count": 5,
   "metadata": {
    "slideshow": {
     "slide_type": "fragment"
    }
   },
   "outputs": [
    {
     "name": "stdout",
     "output_type": "stream",
     "text": [
      "2.0\n"
     ]
    }
   ],
   "source": [
    "D = dict([(0,1), ('1',2), ('2',6), (3,6), (.1,10)])\n",
    "\n",
    "res = 0\n",
    "\n",
    "for k in D:\n",
    "\n",
    "    if type(k) == str:\n",
    "        res += int(k)\n",
    "    elif type(k) == int:\n",
    "        res += D[k]\n",
    "    else:\n",
    "        res /= len(D)\n",
    "        \n",
    "print(res) # 1, 2, 4, 10/5 = 2.0"
   ]
  },
  {
   "cell_type": "markdown",
   "metadata": {
    "slideshow": {
     "slide_type": "slide"
    }
   },
   "source": [
    "## $$\\textbf{Exercise 1.5: Classes}$$\n",
    "<hr>\n",
    "<br>"
   ]
  },
  {
   "cell_type": "code",
   "execution_count": 16,
   "metadata": {
    "slideshow": {
     "slide_type": "fragment"
    }
   },
   "outputs": [
    {
     "name": "stdout",
     "output_type": "stream",
     "text": [
      "[1, 1, 1, 0, 1, 0, 0, 1, 0, 0]\n",
      "0.5\n",
      "The coin is fair:True p=0.500\n"
     ]
    }
   ],
   "source": [
    "# Class is given what is the output\n",
    "\n",
    "class Bernoulli():\n",
    "    \n",
    "    def fit(self, X):\n",
    "        conv = lambda x: 1 if x == 'H' else 0\n",
    "        res = [conv(x) for x in X]\n",
    "        print(res)\n",
    "        self.p = sum(res)/len(res)\n",
    "        print(self.p)\n",
    "        \n",
    "    def info(self):\n",
    "        dec = False\n",
    "        if self.p < 0.6 and self.p > 0.4:\n",
    "            dec = True\n",
    "        return f\"The coin is fair:{ dec } p={self.p:.3f}\"\n",
    "    \n",
    "B = Bernoulli()\n",
    "\n",
    "B.fit(['H','H','H','T','H','T','T','H','T','T'])\n",
    "\n",
    "print(B.info())"
   ]
  },
  {
   "cell_type": "markdown",
   "metadata": {
    "slideshow": {
     "slide_type": "slide"
    }
   },
   "source": [
    "## $$\\textbf {Exercise 2: Plotting ( 25 Points )}$$\n",
    "<hr>\n",
    "<br>"
   ]
  },
  {
   "cell_type": "markdown",
   "metadata": {
    "slideshow": {
     "slide_type": "fragment"
    }
   },
   "source": [
    "Write code that reproduces the plot shown below. The data for the depicted plot should be generated\n",
    "from two Gaussian distributions using numpy random package."
   ]
  },
  {
   "cell_type": "markdown",
   "metadata": {
    "slideshow": {
     "slide_type": "-"
    }
   },
   "source": [
    "<center>\n",
    "<img src=\"./images/plt.jpg\", width='800'/>\n",
    "</center>"
   ]
  },
  {
   "cell_type": "markdown",
   "metadata": {
    "slideshow": {
     "slide_type": "slide"
    }
   },
   "source": [
    "## $$\\textbf {Exercise 2.1: Data generation}$$\n",
    "<hr>\n",
    "<br>\n",
    "\n",
    "Generate two numpy arrays $G$ and $K$ from the normal (Gaussian) distribution\n",
    "with means $-1$ and $1$ correspondingly and variance = 1 with $500$ elements each.\n",
    "Compute emperical means of the generated data for both of the arrays. Round the results to two diguts after the point."
   ]
  },
  {
   "cell_type": "code",
   "execution_count": 65,
   "metadata": {
    "slideshow": {
     "slide_type": "fragment"
    }
   },
   "outputs": [
    {
     "name": "stdout",
     "output_type": "stream",
     "text": [
      "-0.99 1.03 (1000,)\n"
     ]
    }
   ],
   "source": [
    "# Solution\n",
    "\n",
    "from numpy.random import normal as gauss\n",
    "np.random.seed(42)\n",
    "\n",
    "G = gauss(-1,1,500)\n",
    "K = gauss( 1,1,500)\n",
    "\n",
    "mu_G = np.round(G.mean(0),2)\n",
    "mu_K = np.round(K.mean(0),2)\n",
    "\n",
    "labels = np.ones(G.shape[0] + K.shape[0])\n",
    "labels[:G.shape[0]] = 0\n",
    "\n",
    "print(mu_G, mu_K, labels.shape)"
   ]
  },
  {
   "cell_type": "markdown",
   "metadata": {
    "slideshow": {
     "slide_type": "slide"
    }
   },
   "source": [
    "## $$\\textbf {Exercise 2.2: Data generation}$$\n",
    "<hr>\n",
    "<br>\n",
    "\n",
    "Create a dictionary D with keys green and black and store the two generated\n",
    "arrays using the keys accordingly."
   ]
  },
  {
   "cell_type": "code",
   "execution_count": 18,
   "metadata": {
    "slideshow": {
     "slide_type": "fragment"
    }
   },
   "outputs": [],
   "source": [
    "D = dict()\n",
    "colors = np.array(['green','black'])\n",
    "                  \n",
    "\n",
    "D[colors[0]] = G\n",
    "D[colors[1]] = K"
   ]
  },
  {
   "cell_type": "markdown",
   "metadata": {
    "slideshow": {
     "slide_type": "slide"
    }
   },
   "source": [
    "## $$\\textbf {Exercise 2.3: Matplotlib}$$\n",
    "<hr>\n",
    "<br>\n",
    "\n",
    "Prepare the plot (plot size is 8 by 6, axis names, title and grids parallel to the y-axis):"
   ]
  },
  {
   "cell_type": "code",
   "execution_count": 25,
   "metadata": {
    "slideshow": {
     "slide_type": "fragment"
    }
   },
   "outputs": [
    {
     "name": "stderr",
     "output_type": "stream",
     "text": [
      "No handles with labels found to put in legend.\n"
     ]
    },
    {
     "data": {
      "image/png": "[encoded data removed]",
      "text/plain": [
       "<Figure size 576x432 with 1 Axes>"
      ]
     },
     "metadata": {
      "needs_background": "light"
     },
     "output_type": "display_data"
    }
   ],
   "source": [
    "from matplotlib import pyplot as plt\n",
    "f = plt.figure(figsize=(8,6))\n",
    "\n",
    "plt.title('Data histogram', fontsize=25)\n",
    "plt.xlabel('X-axis', fontsize=18)\n",
    "plt.ylabel('Y-axis', rotation=0, fontsize=18)\n",
    "\n",
    "plt.yticks(np.arange(0,1.1,0.2))\n",
    "\n",
    "plt.grid(axis='x')\n",
    "\n",
    "_=plt.legend(loc = 'upper left')"
   ]
  },
  {
   "cell_type": "markdown",
   "metadata": {
    "slideshow": {
     "slide_type": "slide"
    }
   },
   "source": [
    "Plot the histogram plot (bins=50) with means as the dotted line through\n",
    "the histogram blocks (line widht is 4, color red ). Set transparency value for black block equal 30%. The\n",
    "height of the mean lines should be maximum of the elements in each block."
   ]
  },
  {
   "cell_type": "code",
   "execution_count": 31,
   "metadata": {
    "slideshow": {
     "slide_type": "fragment"
    }
   },
   "outputs": [
    {
     "data": {
      "text/plain": [
       "<matplotlib.legend.Legend at 0x7fe2d3ede5d0>"
      ]
     },
     "execution_count": 31,
     "metadata": {},
     "output_type": "execute_result"
    },
    {
     "data": {
      "image/png": "[encoded data removed]",
      "text/plain": [
       "<Figure size 576x432 with 1 Axes>"
      ]
     },
     "metadata": {
      "needs_background": "light"
     },
     "output_type": "display_data"
    }
   ],
   "source": [
    "\n",
    "# Expected code\n",
    "f = plt.figure(figsize=(8,6))\n",
    "plt.title('Data histogram', fontsize=25)\n",
    "\n",
    "nums, _ , _ = plt.hist(G, bins=50, label='green', color='g',density=True)\n",
    "g_max = np.max(nums)\n",
    "\n",
    "args = ([mu_G,mu_G],[0, g_max])\n",
    "\n",
    "plt.plot(*args, ls='--', linewidth=4, c='r')\n",
    "nums, _ , _ = plt.hist(K, bins=50, label='black', color='k', alpha=0.3, density=True)\n",
    "k_max = np.max(nums)\n",
    "args = ([mu_K,mu_K],[0, k_max])\n",
    "_=plt.plot(*args, ls='--', linewidth=4, c='r')\n",
    "\n",
    "plt.xlabel('X-axis', fontsize=18)\n",
    "plt.ylabel('Y-axis', rotation=0, fontsize=18)\n",
    "plt.yticks(np.arange(0,1.1,0.2))\n",
    "plt.grid(axis='x')\n",
    "plt.legend(loc = 'upper left')"
   ]
  },
  {
   "cell_type": "markdown",
   "metadata": {
    "slideshow": {
     "slide_type": "slide"
    }
   },
   "source": [
    "## $$\\textbf {Exercise 3: Numpy Acceleration ( 5 + 10 + 10 = 25 P )}$$\n",
    "<hr>\n",
    "<br> "
   ]
  },
  {
   "cell_type": "markdown",
   "metadata": {},
   "source": [
    "Functions ***slow1, slow2, slow3*** are written in pure Python and therefore slow and difficult to read. Write\n",
    "their numpy-accelerated counterparts (they should produce the same output, but run much faster and be\n",
    "more compact and readable). Input to these functions, where required, can be assumed to be numpy arrays.\n",
    "No further packages (e.g. sklearn, panda, etc...) are allowed !"
   ]
  },
  {
   "cell_type": "markdown",
   "metadata": {
    "slideshow": {
     "slide_type": "slide"
    }
   },
   "source": [
    "## $$\\textbf {Exercise 3.1: Rows and Matrices}$$\n",
    "<hr>\n",
    "<br>  "
   ]
  },
  {
   "cell_type": "code",
   "execution_count": 69,
   "metadata": {
    "slideshow": {
     "slide_type": "fragment"
    }
   },
   "outputs": [],
   "source": [
    "def slow1(X):\n",
    "    n,m = X.shape\n",
    "    D = np.empty_like(X)\n",
    "    D[0] = [x**2 for x in X[1]]\n",
    "    for i in range(m):\n",
    "        D[1,i] = abs(D[0,i]-X[1,i])\n",
    "    return D"
   ]
  },
  {
   "cell_type": "code",
   "execution_count": 70,
   "metadata": {
    "slideshow": {
     "slide_type": "fragment"
    }
   },
   "outputs": [
    {
     "name": "stdout",
     "output_type": "stream",
     "text": [
      "[[0 1 2 3 4]\n",
      " [5 6 7 8 9]]\n"
     ]
    },
    {
     "data": {
      "text/plain": [
       "array([[25, 36, 49, 64, 81],\n",
       "       [20, 30, 42, 56, 72]])"
      ]
     },
     "execution_count": 70,
     "metadata": {},
     "output_type": "execute_result"
    }
   ],
   "source": [
    "X = np.arange(10).reshape(2,5)\n",
    "print(X)\n",
    "slow1(X)"
   ]
  },
  {
   "cell_type": "markdown",
   "metadata": {
    "slideshow": {
     "slide_type": "slide"
    }
   },
   "source": [
    "## $$\\textbf {Solution 3.1: Rows and Matrices}$$\n",
    "<hr>\n",
    "<br>   "
   ]
  },
  {
   "cell_type": "code",
   "execution_count": 71,
   "metadata": {
    "slideshow": {
     "slide_type": "-"
    }
   },
   "outputs": [],
   "source": [
    "def fast1(X):\n",
    "    D = np.empty_like(X)\n",
    "    D[0] = X[1]**2\n",
    "    D[1] = np.abs(D[0] - X[1])\n",
    "    return D"
   ]
  },
  {
   "cell_type": "code",
   "execution_count": 73,
   "metadata": {
    "slideshow": {
     "slide_type": "fragment"
    }
   },
   "outputs": [],
   "source": [
    "assert np.isclose(np.sum(slow1(X) - fast1(X)), 0 )"
   ]
  },
  {
   "cell_type": "markdown",
   "metadata": {
    "slideshow": {
     "slide_type": "slide"
    }
   },
   "source": [
    "## $$\\textbf {Exercise 3.2: Columns and Mean over an axis}$$\n",
    "<hr>\n",
    "<br>   "
   ]
  },
  {
   "cell_type": "code",
   "execution_count": 56,
   "metadata": {
    "slideshow": {
     "slide_type": "-"
    }
   },
   "outputs": [],
   "source": [
    "def slow2(X):\n",
    "    N,d = X.shape\n",
    "    for j in range(d):\n",
    "        s = 0\n",
    "        for i in range(N):\n",
    "            s += X[i,j]\n",
    "        for i in range(N):\n",
    "            X[i,j] -= s/N\n",
    "    return X"
   ]
  },
  {
   "cell_type": "code",
   "execution_count": 57,
   "metadata": {
    "slideshow": {
     "slide_type": "fragment"
    }
   },
   "outputs": [
    {
     "data": {
      "text/plain": [
       "array([[-4.,  0., -4., -4.],\n",
       "       [ 0., -2.,  0.,  0.],\n",
       "       [ 4.,  2.,  4.,  4.]])"
      ]
     },
     "execution_count": 57,
     "metadata": {},
     "output_type": "execute_result"
    }
   ],
   "source": [
    "D = np.arange(12.).reshape(3,4)\n",
    "D[0,1] = 7\n",
    "X = np.copy(D)\n",
    "slow2(X)"
   ]
  },
  {
   "cell_type": "markdown",
   "metadata": {
    "slideshow": {
     "slide_type": "slide"
    }
   },
   "source": [
    "## $$\\textbf {Solution 3.2: Columns and Mean over an axis}$$\n",
    "<hr>\n",
    "<br>   "
   ]
  },
  {
   "cell_type": "code",
   "execution_count": 75,
   "metadata": {},
   "outputs": [],
   "source": [
    "def fast2(X):\n",
    "    N,d = X.shape\n",
    "    m = X.mean(0) # 1,4\n",
    "    X -= m # (3,4) - (1,4)\n",
    "    return X"
   ]
  },
  {
   "cell_type": "code",
   "execution_count": 76,
   "metadata": {},
   "outputs": [
    {
     "name": "stdout",
     "output_type": "stream",
     "text": [
      "[[ 0.  7.  2.  3.]\n",
      " [ 4.  5.  6.  7.]\n",
      " [ 8.  9. 10. 11.]]\n"
     ]
    },
    {
     "data": {
      "text/plain": [
       "0.0"
      ]
     },
     "execution_count": 76,
     "metadata": {},
     "output_type": "execute_result"
    }
   ],
   "source": [
    "X = np.copy(D)\n",
    "print(X)\n",
    "np.sum( slow2(X) - fast2(X))"
   ]
  },
  {
   "cell_type": "markdown",
   "metadata": {
    "slideshow": {
     "slide_type": "slide"
    }
   },
   "source": [
    "## $$\\textbf {Exercise 3.3: log plus one Distance}$$\n",
    "<hr>\n",
    "<br>   "
   ]
  },
  {
   "cell_type": "code",
   "execution_count": 77,
   "metadata": {
    "slideshow": {
     "slide_type": "-"
    }
   },
   "outputs": [],
   "source": [
    "import numpy as np\n",
    "from math import log\n",
    "\n",
    "def slow3(X, C):\n",
    "    N, f = X.shape\n",
    "    M, f = C.shape\n",
    "    D = np.zeros((N, M))\n",
    "    for n in range(N):\n",
    "        for m in range(M):\n",
    "            for k in range(f):\n",
    "                a,b = X[n,k], C[m,k]\n",
    "                D[n,m] += abs(a - b)\n",
    "                \n",
    "    for n in range(N):\n",
    "        for m in range(M):\n",
    "            D[n,m] = log(1 + D[n,m])\n",
    "    return D"
   ]
  },
  {
   "cell_type": "markdown",
   "metadata": {
    "slideshow": {
     "slide_type": "slide"
    }
   },
   "source": [
    "## $$\\textbf { Solution 3.3: log plus one Distances}$$\n",
    "<hr>\n",
    "<br>   "
   ]
  },
  {
   "cell_type": "code",
   "execution_count": 78,
   "metadata": {
    "scrolled": true,
    "slideshow": {
     "slide_type": "-"
    }
   },
   "outputs": [
    {
     "name": "stdout",
     "output_type": "stream",
     "text": [
      "(3, 4) (2, 4)\n"
     ]
    }
   ],
   "source": [
    "# Expected code\n",
    "\n",
    "C = np.arange(8).reshape(2,4)\n",
    "print(X.shape, C.shape)\n",
    "\n",
    "def fast3(X,C):\n",
    "    #    (3,1,4)   (1,2,4)\n",
    "    D = np.abs(X[:,None] - C[None]) # (3,2,4)\n",
    "    # (3,2)\n",
    "    D = D.sum(2)\n",
    "    return np.log(1 + D)"
   ]
  },
  {
   "cell_type": "code",
   "execution_count": 79,
   "metadata": {
    "slideshow": {
     "slide_type": "-"
    }
   },
   "outputs": [],
   "source": [
    "assert np.isclose(np.sum(slow3(X,C) - fast3(X,C)),0)"
   ]
  },
  {
   "cell_type": "markdown",
   "metadata": {
    "slideshow": {
     "slide_type": "slide"
    }
   },
   "source": [
    "## $$\\textbf {Exercise 4: Random Walks (5 + 10 + 10 = 25 P)}$$\n",
    "<hr>\n",
    "\n",
    "A robotic vacuum cleaner\n",
    "moves randomly between\n",
    "rooms of an apartment\n",
    "shown below. We would like\n",
    "to simulate its path."
   ]
  },
  {
   "cell_type": "markdown",
   "metadata": {
    "slideshow": {
     "slide_type": "-"
    }
   },
   "source": [
    "<center>\n",
    "<img src='./images/sim.png' width=500/>\n",
    "</center>"
   ]
  },
  {
   "cell_type": "markdown",
   "metadata": {
    "slideshow": {
     "slide_type": "slide"
    }
   },
   "source": [
    "## $$\\textbf {Exercise 4.1: Transition model}$$\n",
    "<hr>\n",
    "\n",
    "\n",
    "Build the transition model between states {A,B,C,D} (e.g. a Python dictionary)\n",
    "Store the actual room names (lobby, kitchen, etc...):"
   ]
  },
  {
   "cell_type": "code",
   "execution_count": 59,
   "metadata": {
    "slideshow": {
     "slide_type": "fragment"
    }
   },
   "outputs": [],
   "source": [
    "# Expected solution\n",
    "\n",
    "T = {'A': 'BCD', 'B':'AC', 'C':'AB','D':'A'}\n",
    "names = {'A': 'lobby', 'B':'kitchen','C':'bedroom','D':'bathroom'}"
   ]
  },
  {
   "cell_type": "markdown",
   "metadata": {
    "slideshow": {
     "slide_type": "slide"
    }
   },
   "source": [
    "## $$\\textbf {Exercise 4.2: Transition simulation}$$\n",
    "<hr>\n",
    "\n",
    "Simulate the system for 1000 iterations and record the sequence of visited states (we start in\n",
    "the lobby, and transition to each connected state has equal probability):"
   ]
  },
  {
   "cell_type": "code",
   "execution_count": 80,
   "metadata": {
    "slideshow": {
     "slide_type": "fragment"
    }
   },
   "outputs": [
    {
     "name": "stdout",
     "output_type": "stream",
     "text": [
      "['A', 'C', 'B', 'C', 'B', 'A', 'B', 'C', 'A', 'D']\n"
     ]
    }
   ],
   "source": [
    "# Expected solution\n",
    "\n",
    "import random\n",
    "states = ['A']\n",
    "\n",
    "for _ in range(1000):\n",
    "    C = random.choice(T[states[-1]])\n",
    "    states.append(C)\n",
    "    \n",
    "print(states[:10])"
   ]
  },
  {
   "cell_type": "code",
   "execution_count": null,
   "metadata": {},
   "outputs": [],
   "source": []
  },
  {
   "cell_type": "code",
   "execution_count": null,
   "metadata": {},
   "outputs": [],
   "source": []
  },
  {
   "cell_type": "markdown",
   "metadata": {
    "slideshow": {
     "slide_type": "slide"
    }
   },
   "source": [
    "## $$\\textbf {Exercise 4.3: Simulation evaluation}$$\n",
    "<hr>\n",
    "\n",
    "Write code that finds in which state the robot has spent the least amount of time and print the actual room name (lobby, kitchen, etc...):"
   ]
  },
  {
   "cell_type": "code",
   "execution_count": 61,
   "metadata": {
    "scrolled": true,
    "slideshow": {
     "slide_type": "fragment"
    }
   },
   "outputs": [
    {
     "name": "stdout",
     "output_type": "stream",
     "text": [
      "bathroom\n"
     ]
    }
   ],
   "source": [
    "# Expected solution\n",
    "\n",
    "state_min = None\n",
    "n_min = float('inf')\n",
    "\n",
    "for X in T.keys():\n",
    "    n = np.sum(np.array(states) == X)\n",
    "    if n < n_min:\n",
    "        state_min = X\n",
    "        n_min = n\n",
    "\n",
    "print(names[state_min])"
   ]
  },
  {
   "cell_type": "markdown",
   "metadata": {},
   "source": [
    "$$\\ln{x^2} = 2\\ln{x}$$ "
   ]
  },
  {
   "cell_type": "code",
   "execution_count": 99,
   "metadata": {},
   "outputs": [
    {
     "name": "stdout",
     "output_type": "stream",
     "text": [
      "2\n"
     ]
    },
    {
     "data": {
      "text/plain": [
       "6"
      ]
     },
     "execution_count": 99,
     "metadata": {},
     "output_type": "execute_result"
    }
   ],
   "source": [
    "fun(1,3)"
   ]
  },
  {
   "cell_type": "code",
   "execution_count": null,
   "metadata": {},
   "outputs": [],
   "source": []
  }
 ],
 "metadata": {
  "celltoolbar": "Slideshow",
  "kernelspec": {
   "display_name": "Python 3",
   "language": "python",
   "name": "python3"
  },
  "language_info": {
   "codemirror_mode": {
    "name": "ipython",
    "version": 3
   },
   "file_extension": ".py",
   "mimetype": "text/x-python",
   "name": "python",
   "nbconvert_exporter": "python",
   "pygments_lexer": "ipython3",
   "version": "3.7.6"
  }
 },
 "nbformat": 4,
 "nbformat_minor": 2
}
